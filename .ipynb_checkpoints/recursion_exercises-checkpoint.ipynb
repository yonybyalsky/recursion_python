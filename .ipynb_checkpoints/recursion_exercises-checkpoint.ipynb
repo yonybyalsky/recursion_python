{
 "cells": [
  {
   "cell_type": "code",
   "execution_count": 1,
   "id": "2a293b99",
   "metadata": {},
   "outputs": [],
   "source": [
    "def mult(num1: int, num2: int) -> int:\n",
    "    if num2 == 1:\n",
    "        return num1\n",
    "    return num1 + mult(num1, num2 - 1)"
   ]
  },
  {
   "cell_type": "code",
   "execution_count": 2,
   "id": "e8f24977",
   "metadata": {},
   "outputs": [
    {
     "data": {
      "text/plain": [
       "30"
      ]
     },
     "execution_count": 2,
     "metadata": {},
     "output_type": "execute_result"
    }
   ],
   "source": [
    "mult(5, 6)"
   ]
  },
  {
   "cell_type": "code",
   "execution_count": 3,
   "id": "0c8c8282",
   "metadata": {},
   "outputs": [],
   "source": [
    "def in_power(base: int, power: int) -> int:\n",
    "    if power == 0:\n",
    "        return 1\n",
    "    return base * in_power(base, power - 1)"
   ]
  },
  {
   "cell_type": "code",
   "execution_count": 4,
   "id": "ed72f8ce",
   "metadata": {},
   "outputs": [
    {
     "data": {
      "text/plain": [
       "8"
      ]
     },
     "execution_count": 4,
     "metadata": {},
     "output_type": "execute_result"
    }
   ],
   "source": [
    "in_power(2, 3)"
   ]
  },
  {
   "cell_type": "code",
   "execution_count": 5,
   "id": "e7cceab8",
   "metadata": {},
   "outputs": [],
   "source": [
    "def string_to_int(num_string: str) -> int:\n",
    "    char_to_int = {'0': 0, '1': 1, '2': 2, '3': 3, '4': 4, '5': 5, '6': 6, '7': 7, '8': 8, '9': 9}\n",
    "    if len(num_string) == 1:\n",
    "        return char_to_int[num_string]\n",
    "    return char_to_int[num_string[0]] * 10**(len(num_string) - 1) + string_to_int(num_string[-(len(num_string) - 1):])"
   ]
  },
  {
   "cell_type": "code",
   "execution_count": 6,
   "id": "81c08ae8",
   "metadata": {},
   "outputs": [
    {
     "data": {
      "text/plain": [
       "541112000"
      ]
     },
     "execution_count": 6,
     "metadata": {},
     "output_type": "execute_result"
    }
   ],
   "source": [
    "string_to_int('541112000')"
   ]
  },
  {
   "cell_type": "code",
   "execution_count": 7,
   "id": "fc9c55cb",
   "metadata": {},
   "outputs": [],
   "source": [
    "def gcd(num1: int, num2: int) -> int:\n",
    "    if num1 < num2:\n",
    "        num1, num2 = num2, num1\n",
    "    if num1 % num2 == 0:\n",
    "        return num2\n",
    "    return gcd(num2, num1 % num2)"
   ]
  },
  {
   "cell_type": "code",
   "execution_count": 8,
   "id": "9cba318e",
   "metadata": {},
   "outputs": [
    {
     "data": {
      "text/plain": [
       "6"
      ]
     },
     "execution_count": 8,
     "metadata": {},
     "output_type": "execute_result"
    }
   ],
   "source": [
    "gcd(270, 192)"
   ]
  },
  {
   "cell_type": "code",
   "execution_count": 11,
   "id": "822872e6",
   "metadata": {},
   "outputs": [],
   "source": [
    "#num_list needs to be sorted from smallest to biggest\n",
    "def in_list(num_list: list, num) -> bool:\n",
    "    middle_index = int(len(num_list)/2)\n",
    "    if num_list == []:\n",
    "        print('False')\n",
    "        return False\n",
    "    else:\n",
    "        if num_list[middle_index] == num:\n",
    "            print('True')\n",
    "            return True\n",
    "        elif num_list[middle_index] < num:\n",
    "            num_list = num_list[middle_index + 1:]\n",
    "            in_list(num_list, num)\n",
    "        else:\n",
    "            num_list = num_list[:middle_index]\n",
    "            in_list(num_list, num)"
   ]
  },
  {
   "cell_type": "code",
   "execution_count": 12,
   "id": "c0490f17",
   "metadata": {},
   "outputs": [
    {
     "name": "stdout",
     "output_type": "stream",
     "text": [
      "True\n"
     ]
    }
   ],
   "source": [
    "in_list([2, 3, 4, 4.5, 5, 6], 6)"
   ]
  }
 ],
 "metadata": {
  "kernelspec": {
   "display_name": "Python 3 (ipykernel)",
   "language": "python",
   "name": "python3"
  },
  "language_info": {
   "codemirror_mode": {
    "name": "ipython",
    "version": 3
   },
   "file_extension": ".py",
   "mimetype": "text/x-python",
   "name": "python",
   "nbconvert_exporter": "python",
   "pygments_lexer": "ipython3",
   "version": "3.9.2"
  }
 },
 "nbformat": 4,
 "nbformat_minor": 5
}
